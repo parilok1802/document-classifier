{
 "cells": [
  {
   "cell_type": "code",
   "execution_count": 1,
   "id": "543f547c-3779-4d06-acd3-4b056383ce33",
   "metadata": {},
   "outputs": [
    {
     "name": "stdout",
     "output_type": "stream",
     "text": [
      "Train Columns: Index(['fname', 'page_number', 'data', 'tagging'], dtype='object')\n",
      "Test Columns: Index(['row_id', 'fname', 'page_number', 'data'], dtype='object')\n",
      "\n",
      "✅ Validation Accuracy: 0.9401709401709402\n",
      "\n",
      "Classification Report:\n",
      "               precision    recall  f1-score   support\n",
      "\n",
      "          bs       1.00      0.62      0.76        13\n",
      "    negative       0.95      0.99      0.97      1280\n",
      "    notes_bs       0.86      0.76      0.81       169\n",
      " notes_pandl       0.78      0.40      0.53        45\n",
      "       pandl       0.92      0.86      0.89        14\n",
      "\n",
      "    accuracy                           0.94      1521\n",
      "   macro avg       0.90      0.72      0.79      1521\n",
      "weighted avg       0.94      0.94      0.94      1521\n",
      "\n",
      "\n",
      "✅ submission.csv created successfully!\n"
     ]
    }
   ],
   "source": [
    "import pandas as pd\n",
    "from sklearn.model_selection import train_test_split\n",
    "from sklearn.feature_extraction.text import TfidfVectorizer\n",
    "from sklearn.linear_model import LogisticRegression\n",
    "from sklearn.metrics import accuracy_score, classification_report\n",
    "\n",
    "# 1️⃣ Load Train & Test\n",
    "train_df = pd.read_csv(\"Train_data (1).csv\")\n",
    "test_df = pd.read_csv(\"Test_data.csv\")\n",
    "\n",
    "\n",
    "\n",
    "print(\"Train Columns:\", train_df.columns)\n",
    "print(\"Test Columns:\", test_df.columns)\n",
    "\n",
    "# 2️⃣ Use correct columns\n",
    "X = train_df['data']        # ✅ page text\n",
    "y = train_df['tagging']     # ✅ label (pandl, bs, etc.)\n",
    "\n",
    "# 3️⃣ Split into Train & Validation\n",
    "X_train, X_val, y_train, y_val = train_test_split(\n",
    "    X, y, test_size=0.2, random_state=42, stratify=y\n",
    ")\n",
    "\n",
    "# 4️⃣ TF-IDF vectorization\n",
    "vectorizer = TfidfVectorizer(max_features=5000, ngram_range=(1,2))\n",
    "X_train_vec = vectorizer.fit_transform(X_train)\n",
    "X_val_vec   = vectorizer.transform(X_val)\n",
    "\n",
    "# 5️⃣ Train Logistic Regression\n",
    "model = LogisticRegression(max_iter=1000)\n",
    "model.fit(X_train_vec, y_train)\n",
    "\n",
    "# 6️⃣ Validate\n",
    "y_val_pred = model.predict(X_val_vec)\n",
    "print(\"\\n✅ Validation Accuracy:\", accuracy_score(y_val, y_val_pred))\n",
    "print(\"\\nClassification Report:\\n\", classification_report(y_val, y_val_pred))\n",
    "\n",
    "# 7️⃣ Predict Test Data\n",
    "X_test_vec = vectorizer.transform(test_df['data'])\n",
    "test_pred  = model.predict(X_test_vec)\n",
    "\n",
    "# 8️⃣ Save Submission\n",
    "submission = pd.DataFrame({\n",
    "    'row_id': test_df['row_id'],      # ✅ test का row_id\n",
    "    'predicted_class': test_pred\n",
    "})\n",
    "submission.to_csv(\"submission.csv\", index=False)\n",
    "print(\"\\n✅ submission.csv created successfully!\")\n"
   ]
  },
  {
   "cell_type": "code",
   "execution_count": 2,
   "id": "247c84da-06d2-4a6d-bd26-fb32f033b1aa",
   "metadata": {},
   "outputs": [
    {
     "name": "stdout",
     "output_type": "stream",
     "text": [
      "\n",
      "📄 Text: This page contains the profit and loss summary for...\n",
      "👉 Predicted Class: negative\n",
      "\n",
      "📄 Text: The balance sheet includes assets, liabilities and...\n",
      "👉 Predicted Class: negative\n"
     ]
    }
   ],
   "source": [
    "# ✅ कोई भी sample text दो\n",
    "sample_text = [\n",
    "    \"This page contains the profit and loss summary for the company.\",\n",
    "    \"The balance sheet includes assets, liabilities and equity details.\"\n",
    "]\n",
    "\n",
    "# ✅ पहले उसे TF-IDF में बदलो\n",
    "sample_vec = vectorizer.transform(sample_text)\n",
    "\n",
    "# ✅ Prediction लो\n",
    "sample_pred = model.predict(sample_vec)\n",
    "\n",
    "# ✅ Result print करो\n",
    "for text, pred in zip(sample_text, sample_pred):\n",
    "    print(f\"\\n📄 Text: {text[:50]}...\")\n",
    "    print(f\"👉 Predicted Class: {pred}\")\n"
   ]
  },
  {
   "cell_type": "code",
   "execution_count": 16,
   "id": "6301e82f-3ace-43bf-81de-bdc7c3bc5f8e",
   "metadata": {},
   "outputs": [
    {
     "name": "stdout",
     "output_type": "stream",
     "text": [
      "C:\\Users\\Lenovo\\omkar_project\n"
     ]
    }
   ],
   "source": [
    "# import os\n",
    "# print(os.getcwd())\n"
   ]
  },
  {
   "cell_type": "code",
   "execution_count": 17,
   "id": "154f4b35-15b7-4b72-b1c3-39cc130cf994",
   "metadata": {},
   "outputs": [
    {
     "name": "stdout",
     "output_type": "stream",
     "text": [
      "Train shape: (7602, 4)\n",
      "Test shape: (3259, 4)\n",
      "\n",
      "Train columns: ['fname', 'page_number', 'data', 'tagging']\n",
      "Test columns: ['row_id', 'fname', 'page_number', 'data']\n",
      "\n",
      "Sample Train Data:\n",
      "                                               fname  page_number  \\\n",
      "0                      ITCAnnualreport-accounts-2015           62   \n",
      "1  ShriRam City UnionAnnualSCUF_Annual_Reports_20...          181   \n",
      "\n",
      "                                                data   tagging  \n",
      "0  Report Management For Your ended SOCIO-ECONOMI...  negative  \n",
      "1  Consolidated NOTES forming A. B. 36. S.noParti...  negative  \n",
      "\n",
      "Sample Test Data:\n",
      "   row_id                                    fname  page_number  \\\n",
      "0       1  Jet AirwaysAnnualJet_Airways_AR_2017-18          143   \n",
      "1       2         icici-bank-annual-report-2015-16          181   \n",
      "\n",
      "                                                data  \n",
      "0  Notes iii. * Market Market in related Jet The ...  \n",
      "1  Schedules Financial forming 40. 40A. 41. 42. D...  \n"
     ]
    }
   ],
   "source": [
    "# import pandas as pd\n",
    "\n",
    "# # 1️⃣ Load Train & Test\n",
    "# train_df = pd.read_csv(\"Train_data (1).csv\")\n",
    "# test_df = pd.read_csv(\"Test_data.csv\")\n",
    "\n",
    "\n",
    "\n",
    "\n",
    "\n",
    "# print(\"Train shape:\", train_df.shape)\n",
    "# print(\"Test shape:\", test_df.shape)\n",
    "\n",
    "# print(\"\\nTrain columns:\", train_df.columns.tolist())\n",
    "# print(\"Test columns:\", test_df.columns.tolist())\n",
    "\n",
    "# # Peek at the data\n",
    "# print(\"\\nSample Train Data:\")\n",
    "# print(train_df.head(2))\n",
    "\n",
    "# print(\"\\nSample Test Data:\")\n",
    "# print(test_df.head(2))\n"
   ]
  },
  {
   "cell_type": "code",
   "execution_count": 3,
   "id": "7d56e4fb-c1f3-41b2-9dea-477f533a0d7a",
   "metadata": {},
   "outputs": [
    {
     "name": "stdout",
     "output_type": "stream",
     "text": [
      "✅ Model & vectorizer saved!\n"
     ]
    }
   ],
   "source": [
    "# train_and_save_model.py\n",
    "\n",
    "import pandas as pd\n",
    "import joblib\n",
    "from sklearn.model_selection import train_test_split\n",
    "from sklearn.feature_extraction.text import TfidfVectorizer\n",
    "from sklearn.linear_model import LogisticRegression\n",
    "\n",
    "train_df = pd.read_csv(\"Train_data (1).csv\")\n",
    "X = train_df[\"data\"]\n",
    "y = train_df[\"tagging\"]\n",
    "\n",
    "X_train, X_val, y_train, y_val = train_test_split(X, y, stratify=y, test_size=0.2, random_state=42)\n",
    "\n",
    "vectorizer = TfidfVectorizer(max_features=5000, ngram_range=(1,2))\n",
    "X_train_vec = vectorizer.fit_transform(X_train)\n",
    "\n",
    "model = LogisticRegression(max_iter=1000)\n",
    "model.fit(X_train_vec, y_train)\n",
    "\n",
    "# ✅ Save model & vectorizer\n",
    "joblib.dump(model, \"model.pkl\")\n",
    "joblib.dump(vectorizer, \"vectorizer.pkl\")\n",
    "\n",
    "print(\"✅ Model & vectorizer saved!\")\n"
   ]
  },
  {
   "cell_type": "code",
   "execution_count": 2,
   "id": "eff4166e-0f15-423f-b875-a32afc947f03",
   "metadata": {
    "scrolled": true
   },
   "outputs": [
    {
     "name": "stderr",
     "output_type": "stream",
     "text": [
      "2025-07-20 23:35:16.002 Thread 'MainThread': missing ScriptRunContext! This warning can be ignored when running in bare mode.\n",
      "2025-07-20 23:35:16.003 Thread 'MainThread': missing ScriptRunContext! This warning can be ignored when running in bare mode.\n",
      "2025-07-20 23:35:16.003 Thread 'MainThread': missing ScriptRunContext! This warning can be ignored when running in bare mode.\n",
      "2025-07-20 23:35:16.003 Thread 'MainThread': missing ScriptRunContext! This warning can be ignored when running in bare mode.\n",
      "2025-07-20 23:35:16.004 Thread 'MainThread': missing ScriptRunContext! This warning can be ignored when running in bare mode.\n",
      "2025-07-20 23:35:16.005 Thread 'MainThread': missing ScriptRunContext! This warning can be ignored when running in bare mode.\n",
      "2025-07-20 23:35:16.006 Thread 'MainThread': missing ScriptRunContext! This warning can be ignored when running in bare mode.\n",
      "2025-07-20 23:35:16.007 Thread 'MainThread': missing ScriptRunContext! This warning can be ignored when running in bare mode.\n",
      "2025-07-20 23:35:16.007 Thread 'MainThread': missing ScriptRunContext! This warning can be ignored when running in bare mode.\n",
      "2025-07-20 23:35:16.008 Thread 'MainThread': missing ScriptRunContext! This warning can be ignored when running in bare mode.\n",
      "2025-07-20 23:35:16.009 Thread 'MainThread': missing ScriptRunContext! This warning can be ignored when running in bare mode.\n",
      "2025-07-20 23:35:16.010 Thread 'MainThread': missing ScriptRunContext! This warning can be ignored when running in bare mode.\n",
      "2025-07-20 23:35:16.011 Thread 'MainThread': missing ScriptRunContext! This warning can be ignored when running in bare mode.\n",
      "2025-07-20 23:35:16.012 Thread 'MainThread': missing ScriptRunContext! This warning can be ignored when running in bare mode.\n",
      "2025-07-20 23:35:16.012 Thread 'MainThread': missing ScriptRunContext! This warning can be ignored when running in bare mode.\n",
      "2025-07-20 23:35:16.013 Thread 'MainThread': missing ScriptRunContext! This warning can be ignored when running in bare mode.\n",
      "2025-07-20 23:35:16.014 Thread 'MainThread': missing ScriptRunContext! This warning can be ignored when running in bare mode.\n",
      "2025-07-20 23:35:16.014 Thread 'MainThread': missing ScriptRunContext! This warning can be ignored when running in bare mode.\n",
      "2025-07-20 23:35:16.015 Thread 'MainThread': missing ScriptRunContext! This warning can be ignored when running in bare mode.\n"
     ]
    }
   ],
   "source": [
    "# app.py\n",
    "\n",
    "import streamlit as st\n",
    "import joblib\n",
    "\n",
    "# 🔁 Load model and vectorizer\n",
    "model = joblib.load(\"model.pkl\")\n",
    "vectorizer = joblib.load(\"vectorizer.pkl\")\n",
    "\n",
    "# 🎨 UI\n",
    "st.set_page_config(page_title=\"Text Classifier\", layout=\"centered\")\n",
    "st.title(\"📄 Sample Text Prediction\")\n",
    "\n",
    "sample_texts = [\n",
    "    \"This page contains the profit and loss summary for the company.\",\n",
    "    \"The balance sheet includes assets, liabilities and equity details.\"\n",
    "]\n",
    "\n",
    "st.subheader(\"📝 Sample Texts\")\n",
    "for i, txt in enumerate(sample_texts, 1):\n",
    "    st.markdown(f\"**Sample {i}:** {txt}\")\n",
    "\n",
    "if st.button(\"🔮 Predict Classes\"):\n",
    "    sample_vec = vectorizer.transform(sample_texts)\n",
    "    sample_pred = model.predict(sample_vec)\n",
    "\n",
    "    st.subheader(\"✅ Predictions\")\n",
    "    for text, pred in zip(sample_texts, sample_pred):\n",
    "        st.markdown(f\"**📄 Text:** {text[:60]}...\")\n",
    "        st.markdown(f\"👉 **Predicted Class:** `{pred}`\")\n",
    "        st.markdown(\"---\")\n"
   ]
  },
  {
   "cell_type": "code",
   "execution_count": null,
   "id": "5f4f8ad1-3c5f-400c-aa46-19bacf23d65a",
   "metadata": {},
   "outputs": [],
   "source": []
  }
 ],
 "metadata": {
  "kernelspec": {
   "display_name": "Python 3 (ipykernel)",
   "language": "python",
   "name": "python3"
  },
  "language_info": {
   "codemirror_mode": {
    "name": "ipython",
    "version": 3
   },
   "file_extension": ".py",
   "mimetype": "text/x-python",
   "name": "python",
   "nbconvert_exporter": "python",
   "pygments_lexer": "ipython3",
   "version": "3.13.5"
  }
 },
 "nbformat": 4,
 "nbformat_minor": 5
}
